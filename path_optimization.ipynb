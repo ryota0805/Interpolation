{
 "cells": [
  {
   "cell_type": "markdown",
   "metadata": {},
   "source": [
    "経路の最適化"
   ]
  },
  {
   "cell_type": "markdown",
   "metadata": {},
   "source": [
    "実験1\n",
    "\n",
    "開始点(0,0),終了点(5,0)\n",
    "\n",
    "中間点2点(x1, y1),(x2, y2)\n",
    "\n",
    "評価関数　経路の距離、セグメントのなす角度の和\n",
    "\n",
    "制約　中間点が障害物外\n",
    "\n",
    "障害物　4点(1,0),(1,4),(4,4),(4,0)"
   ]
  },
  {
   "cell_type": "code",
   "execution_count": 140,
   "metadata": {},
   "outputs": [],
   "source": [
    "import numpy as np\n",
    "from scipy import interpolate\n",
    "import matplotlib.pyplot as plt\n",
    "import matplotlib.patches as patches\n",
    "import copy"
   ]
  },
  {
   "cell_type": "code",
   "execution_count": 57,
   "metadata": {},
   "outputs": [],
   "source": [
    "#開始点、終点を含む点列のリスト\n",
    "path_list = [[0, 0], [0, 5], [5, 5], [5, 0]]\n",
    "\n",
    "#障害物のリスト[(左下の座標),(右上の座標)]\n",
    "obstacle_list = [[(1, 0), (4, 4)]]"
   ]
  },
  {
   "cell_type": "code",
   "execution_count": 154,
   "metadata": {},
   "outputs": [],
   "source": [
    "#評価関数\n",
    "#J1：経路の距離\n",
    "def evalation1(path_list):\n",
    "    total_distance = 0\n",
    "    for i in range(len(path_list) - 1):\n",
    "        segment_distance = ((path_list[i][0] - path_list[i+1][0])**2 + (path_list[i][1] - path_list[i+1][1])**2)**(1/2)\n",
    "        total_distance += segment_distance\n",
    "    return total_distance"
   ]
  },
  {
   "cell_type": "code",
   "execution_count": 169,
   "metadata": {},
   "outputs": [],
   "source": [
    "#評価関数\n",
    "#J2：セグメントのなす角の2乗和\n",
    "def evalation2(path_list):\n",
    "    total_segment_inner_product = 0\n",
    "    for i in range(len(path_list)-2):\n",
    "        #セグメントの距離\n",
    "        segment_distance1 = ((path_list[i][0] - path_list[i+1][0])**2 + (path_list[i][1] - path_list[i+1][1])**2)**(1/2)\n",
    "        segment_distance2 = ((path_list[i+1][0] - path_list[i+2][0])**2 + (path_list[i+1][1] - path_list[i+2][1])**2)**(1/2)\n",
    "\n",
    "        #セグメントのベクトル\n",
    "        segment_vecter1 = [path_list[i+1][0] - path_list[i][0], path_list[i+1][1] - path_list[i][1]]\n",
    "        segment_vecter2 = [path_list[i+2][0] - path_list[i+1][0], path_list[i+2][1] - path_list[i+1][1]]\n",
    "\n",
    "        #セグメントの内積\n",
    "        segment_inner_product = (segment_vecter1[0] * segment_vecter2[0] + segment_vecter1[1] * segment_vecter2[1])/(segment_distance1 * segment_distance2)\n",
    "\n",
    "        total_segment_inner_product += (1 - segment_inner_product) ** 2\n",
    "\n",
    "    return total_segment_inner_product\n"
   ]
  },
  {
   "cell_type": "code",
   "execution_count": 170,
   "metadata": {},
   "outputs": [],
   "source": [
    "#全体の評価関数\n",
    "#J：J1とJ2の重み付き線形和\n",
    "def total_evaluation(path_list, w1, w2):\n",
    "    J1 = evalation1(path_list)\n",
    "    J2 = evalation2(path_list)\n",
    "    \n",
    "    J = w1 * J1 + w2 * J2\n",
    "    \n",
    "    return J"
   ]
  },
  {
   "cell_type": "code",
   "execution_count": 188,
   "metadata": {},
   "outputs": [],
   "source": [
    "#数値微分により勾配を求める\n",
    "def dif_total_evaluation(path_list, w1, w2, h = 0.001):\n",
    "    result = []\n",
    "    for i in range(len(path_list)):\n",
    "        #開始点、終点は設計変数ではないため0を返し、勾配を計算しない\n",
    "        if i == 0 or i == len(path_list) - 1:\n",
    "            result.append([0, 0])\n",
    "        else:\n",
    "            delta_path_list = copy.deepcopy(path_list)\n",
    "            delta_path_list[i][0] += h\n",
    "            dif_x_total_evaluation = (total_evaluation(delta_path_list, w1, w2) - total_evaluation(path_list, w1, w2))/h\n",
    "            \n",
    "            delta_path_list = copy.deepcopy(path_list)\n",
    "            delta_path_list[i][1] += h\n",
    "            dif_y_total_evaluation = (total_evaluation(delta_path_list, w1, w2) - total_evaluation(path_list, w1, w2))/h\n",
    "\n",
    "            result.append([dif_x_total_evaluation, dif_y_total_evaluation])\n",
    "    \n",
    "    return result\n"
   ]
  },
  {
   "cell_type": "code",
   "execution_count": 172,
   "metadata": {},
   "outputs": [],
   "source": [
    "#衝突判定\n",
    "#各点が障害物の領域外であれば、Trueを返す\n",
    "\n",
    "def check_collision(path_list, obstacle_list):\n",
    "    flag = True\n",
    "    for i in range(len(path_list)):\n",
    "        x = path_list[i][0]\n",
    "        y = path_list[i][1]\n",
    "        \n",
    "        for j in range(len(obstacle_list)):\n",
    "            if x > obstacle_list[j][0][0] and x < obstacle_list[j][1][0] and y > obstacle_list[j][0][1] and y < obstacle_list[j][1][1]:\n",
    "                flag = False\n",
    "            else:\n",
    "                continue\n",
    "    return flag"
   ]
  },
  {
   "cell_type": "code",
   "execution_count": 173,
   "metadata": {},
   "outputs": [],
   "source": [
    "#グラフによる可視化\n",
    "def vis_path(path_list, obstacle_list):\n",
    "    fig , ax = plt.subplots()\n",
    "    \n",
    "    #障害物の配置\n",
    "    for i in range(len(obstacle_list)):\n",
    "        #widthとheightの計算\n",
    "        width = obstacle_list[i][1][0] - obstacle_list[i][0][0]\n",
    "        height = obstacle_list[i][1][1] - obstacle_list[i][0][1]\n",
    "        \n",
    "        obstacle = patches.Rectangle(xy = tuple(obstacle_list[i][0]), width = width, height = height, fc = \"black\", ec = \"black\")\n",
    "        ax.add_patch(obstacle)\n",
    "        \n",
    "    #path_listからx,yのlistを作成\n",
    "    x = []\n",
    "    y = []\n",
    "    for i in range(len(path_list)):\n",
    "        x.append(path_list[i][0])\n",
    "        y.append(path_list[i][1])\n",
    "        \n",
    "    #pathをplot\n",
    "    ax.plot(x, y, linestyle = \"solid\", marker=\"o\", color = \"black\")\n",
    "    ax.set_xlabel(\"x\")\n",
    "    ax.set_ylabel(\"y\")\n",
    "    \n",
    "    #グラフの表示\n",
    "    plt.show()"
   ]
  },
  {
   "cell_type": "code",
   "execution_count": 198,
   "metadata": {},
   "outputs": [],
   "source": [
    "#最適化を行うmain関数\n",
    "def main(path_list, obstacle_list, w1, w2, alpha, iteration):\n",
    "    #iterationだけ反復を繰り返す\n",
    "    for i in range(iteration):\n",
    "        #グラフの可視化\n",
    "        #vis_path(path_list, obstacle_list)\n",
    "        \n",
    "        #勾配の計算\n",
    "        delta = dif_total_evaluation(path_list, w1, w2, h = 0.001)\n",
    "        \n",
    "        #listをnumpyに変換\n",
    "        path_list = np.array(path_list)\n",
    "        delta = np.array(delta)\n",
    "        \n",
    "        #更新\n",
    "        path_list = path_list - alpha * delta\n",
    "        print(path_list)\n",
    "        #numpyをlistに戻す\n",
    "        path_list = path_list.tolist()\n",
    "        delta = delta.tolist()\n",
    "        \n",
    "        #衝突判定(衝突がなければ続行、衝突すれば最適化終了)\n",
    "        flag = check_collision(path_list, obstacle_list)\n",
    "        if flag == True:\n",
    "            continue\n",
    "        else:\n",
    "            print(\"衝突発生\")\n",
    "            print(\"反復回数：\", i)\n",
    "            break"
   ]
  },
  {
   "cell_type": "code",
   "execution_count": null,
   "metadata": {},
   "outputs": [],
   "source": [
    "#開始点、終点を含む点列のリスト\n",
    "path_list = [[0, 0], [0, 5], [5, 5], [5, 0]]\n",
    "\n",
    "#障害物のリスト[(左下の座標),(右上の座標)]\n",
    "obstacle_list = [[(1, 0), (4, 4)]]\n",
    "\n",
    "main(path_list, obstacle_list, 1, 1, 0.001, 1000)"
   ]
  },
  {
   "cell_type": "code",
   "execution_count": null,
   "metadata": {},
   "outputs": [],
   "source": []
  }
 ],
 "metadata": {
  "kernelspec": {
   "display_name": "Python 3.10.7 64-bit",
   "language": "python",
   "name": "python3"
  },
  "language_info": {
   "codemirror_mode": {
    "name": "ipython",
    "version": 3
   },
   "file_extension": ".py",
   "mimetype": "text/x-python",
   "name": "python",
   "nbconvert_exporter": "python",
   "pygments_lexer": "ipython3",
   "version": "3.10.7"
  },
  "orig_nbformat": 4,
  "vscode": {
   "interpreter": {
    "hash": "1be749acb8b888617c40bd60977924bba0eae76a41ea427eea7ed14986f6c017"
   }
  }
 },
 "nbformat": 4,
 "nbformat_minor": 2
}
